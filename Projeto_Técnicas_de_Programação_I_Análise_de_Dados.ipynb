{
  "cells": [
    {
      "cell_type": "markdown",
      "metadata": {
        "id": "OwnjctYVYDiH"
      },
      "source": [
        "## Análise de Dados - Cursos plataforma de ensino *online*\n",
        "\n",
        "A análise de dados é uma ferramenta essencial para impulsionar os negócios de uma empresa, e consequentemente, agregar valor.\n",
        "<br>\n",
        "<br>\n",
        "Um dos profissionais necessários para a geração de valor para empresas, é o cientista/analista de dados. Este profissional é capaz de retirar insights de diversas fontes de dados.\n",
        "<br>\n",
        "<br>\n",
        "Dito tudo isso, você, como cientista/analista de dados recebeu a missão de analisar dados de uma empresa ensino online de tecnologia. Seu principal objetivo, é através dos dados (disponibilizados na <a href=\"https://drive.google.com/file/d/1PE-9PTK5twBuUOuuKAk3Oo02Is8Dr8q-/view?usp=share_link\">pasta compartilhada</a> deste módulo), é o de responder algumas perguntas de negócios para auxiliar a empresa a aprimorar os seus serviços e produtos.\n",
        "<br>\n",
        "<br>\n",
        "Detalhes da base de dados podem ser vistos na plataforma Kaggle pelo <a href=\"https://www.kaggle.com/datasets/thedevastator/udemy-courses-revenue-generation-and-course-anal\">link</a>\n",
        "<br>\n",
        "<br>\n",
        "Para isso, use os conhecimentos obtidos neste módulo (e anteriores) para responder as seguintes questões:\n",
        "\n",
        "**Dicas:**\n",
        "\n",
        "- Serão três diferentes bases de dados disponibilizadas na pasta do módulo, separadas por assunto (curso). Porém, todas elas contêm o mesmo cabeçalho. Logo, para que consiga responder as perguntas abaixo, unifique-as em um único **DataFrame** do pandas, e realize as análises.\n",
        "- Não é necessário criar gráficos/visualizações para apresentar os resultados de cada pergunta. Porém, se você estiver confortável para criá-los quando necessário, fique à vontade."
      ]
    },
    {
      "cell_type": "markdown",
      "metadata": {
        "id": "CAutWLQXtZm1"
      },
      "source": [
        "### Perguntas a serem respondidas a partir dos dados."
      ]
    },
    {
      "cell_type": "markdown",
      "metadata": {
        "id": "LxbUDG_aoEJX"
      },
      "source": [
        "1. Quantos cursos estão disponíveis na plataforma?"
      ]
    },
    {
      "cell_type": "code",
      "execution_count": 97,
      "metadata": {},
      "outputs": [],
      "source": [
        "import pandas as pd\n",
        "import numpy as np"
      ]
    },
    {
      "cell_type": "code",
      "execution_count": 59,
      "metadata": {
        "colab": {
          "base_uri": "https://localhost:8080/"
        },
        "id": "JVc3skEVoPr8",
        "outputId": "e46d6368-28ab-4a0b-bc98-aa47df4a6ff6"
      },
      "outputs": [
        {
          "name": "stdout",
          "output_type": "stream",
          "text": [
            "3664 cursos.\n"
          ]
        }
      ],
      "source": [
        "\n",
        "df_business = pd.read_csv(\"3.1-data-sheet-udemy-courses-business-courses.csv\")\n",
        "df_design = pd.read_csv(\"3.1-data-sheet-udemy-courses-design-courses.csv\")\n",
        "df_music = pd.read_csv(\"3.1-data-sheet-udemy-courses-music-courses.csv\")\n",
        "df_web = pd.read_csv(\"3.1-data-sheet-udemy-courses-web-development.csv\")\n",
        "\n",
        "general_df = pd.concat([df_business, df_design, df_music, df_web], ignore_index = True)\n",
        "general_df.to_csv(\"geral.csv\")\n",
        "\n",
        "general_df = pd.read_csv(\"geral.csv\")\n",
        "print(pd.unique(general_df[\"course_title\"]).shape[0], \"cursos.\")"
      ]
    },
    {
      "cell_type": "markdown",
      "metadata": {
        "id": "eFKSLDeyoQCF"
      },
      "source": [
        "2. Quais e quantos são os cursos que abordam o assunto: JavaScript?"
      ]
    },
    {
      "cell_type": "code",
      "execution_count": 58,
      "metadata": {
        "colab": {
          "base_uri": "https://localhost:8080/"
        },
        "id": "z1cLUiw8okVI",
        "outputId": "420dd415-8a7f-4f64-a7b5-0b75ff376161"
      },
      "outputs": [
        {
          "name": "stdout",
          "output_type": "stream",
          "text": [
            "Quantidade: 137 cursos\n",
            "#########\n",
            "Cursos:\n"
          ]
        },
        {
          "data": {
            "text/html": [
              "<div>\n",
              "<style scoped>\n",
              "    .dataframe tbody tr th:only-of-type {\n",
              "        vertical-align: middle;\n",
              "    }\n",
              "\n",
              "    .dataframe tbody tr th {\n",
              "        vertical-align: top;\n",
              "    }\n",
              "\n",
              "    .dataframe thead th {\n",
              "        text-align: right;\n",
              "    }\n",
              "</style>\n",
              "<table border=\"1\" class=\"dataframe\">\n",
              "  <thead>\n",
              "    <tr style=\"text-align: right;\">\n",
              "      <th></th>\n",
              "      <th>course_title</th>\n",
              "    </tr>\n",
              "  </thead>\n",
              "  <tbody>\n",
              "    <tr>\n",
              "      <th>2482</th>\n",
              "      <td>learn javascript &amp; jquery from scratch</td>\n",
              "    </tr>\n",
              "    <tr>\n",
              "      <th>2484</th>\n",
              "      <td>javascript: understanding the weird parts</td>\n",
              "    </tr>\n",
              "    <tr>\n",
              "      <th>2499</th>\n",
              "      <td>learning dynamic website design - php mysql an...</td>\n",
              "    </tr>\n",
              "    <tr>\n",
              "      <th>2500</th>\n",
              "      <td>javascript essentials</td>\n",
              "    </tr>\n",
              "    <tr>\n",
              "      <th>2512</th>\n",
              "      <td>the complete javascript course for web develop...</td>\n",
              "    </tr>\n",
              "    <tr>\n",
              "      <th>...</th>\n",
              "      <td>...</td>\n",
              "    </tr>\n",
              "    <tr>\n",
              "      <th>3602</th>\n",
              "      <td>let's javascript! code a calculator</td>\n",
              "    </tr>\n",
              "    <tr>\n",
              "      <th>3612</th>\n",
              "      <td>advance javascript for coders: learn oop in ja...</td>\n",
              "    </tr>\n",
              "    <tr>\n",
              "      <th>3615</th>\n",
              "      <td>17 complete javascript projects explained step...</td>\n",
              "    </tr>\n",
              "    <tr>\n",
              "      <th>3632</th>\n",
              "      <td>popular javascript framework:learn the languag...</td>\n",
              "    </tr>\n",
              "    <tr>\n",
              "      <th>3638</th>\n",
              "      <td>the complete javascript, html and css tutorial...</td>\n",
              "    </tr>\n",
              "  </tbody>\n",
              "</table>\n",
              "<p>137 rows × 1 columns</p>\n",
              "</div>"
            ],
            "text/plain": [
              "                                           course_title\n",
              "2482             learn javascript & jquery from scratch\n",
              "2484          javascript: understanding the weird parts\n",
              "2499  learning dynamic website design - php mysql an...\n",
              "2500                              javascript essentials\n",
              "2512  the complete javascript course for web develop...\n",
              "...                                                 ...\n",
              "3602                let's javascript! code a calculator\n",
              "3612  advance javascript for coders: learn oop in ja...\n",
              "3615  17 complete javascript projects explained step...\n",
              "3632  popular javascript framework:learn the languag...\n",
              "3638  the complete javascript, html and css tutorial...\n",
              "\n",
              "[137 rows x 1 columns]"
            ]
          },
          "execution_count": 58,
          "metadata": {},
          "output_type": "execute_result"
        }
      ],
      "source": [
        "general_df[\"course_title\"] = general_df[\"course_title\"].str.lower()\n",
        "js = general_df.loc[(general_df[\"course_title\"].str.contains('javascript', na=False))]\n",
        "print(\"Quantidade:\", js.shape[0], \"cursos\\n#########\" \"\\nCursos:\")\n",
        "js[[\"course_title\"]]"
      ]
    },
    {
      "cell_type": "markdown",
      "metadata": {
        "id": "G4cUox4RooOk"
      },
      "source": [
        "3. Qual é o preço médio (coluna *price*) dos cursos oferecidos na plataforma?"
      ]
    },
    {
      "cell_type": "code",
      "execution_count": 31,
      "metadata": {
        "colab": {
          "base_uri": "https://localhost:8080/"
        },
        "id": "FKOIIjcVo3xg",
        "outputId": "5ab3b1f6-d311-4b95-86c5-8331c1c4b7ea"
      },
      "outputs": [
        {
          "name": "stdout",
          "output_type": "stream",
          "text": [
            "O preço médio dos cursos é $ 66.12\n"
          ]
        }
      ],
      "source": [
        "print(\"O preço médio dos cursos é $\", round(general_df[\"price\"].mean(),2))"
      ]
    },
    {
      "cell_type": "markdown",
      "metadata": {
        "id": "e-zGn_o0o2go"
      },
      "source": [
        "4. Quais são os cinco cursos com maior número de inscritos (coluna *num_subscribers*)?"
      ]
    },
    {
      "cell_type": "code",
      "execution_count": 36,
      "metadata": {
        "colab": {
          "base_uri": "https://localhost:8080/",
          "height": 372
        },
        "id": "ewd5ZmqcpFND",
        "outputId": "057925be-4f4b-449c-92a9-7dea93822aee"
      },
      "outputs": [
        {
          "data": {
            "text/html": [
              "<div>\n",
              "<style scoped>\n",
              "    .dataframe tbody tr th:only-of-type {\n",
              "        vertical-align: middle;\n",
              "    }\n",
              "\n",
              "    .dataframe tbody tr th {\n",
              "        vertical-align: top;\n",
              "    }\n",
              "\n",
              "    .dataframe thead th {\n",
              "        text-align: right;\n",
              "    }\n",
              "</style>\n",
              "<table border=\"1\" class=\"dataframe\">\n",
              "  <thead>\n",
              "    <tr style=\"text-align: right;\">\n",
              "      <th></th>\n",
              "      <th>course_title</th>\n",
              "      <th>num_subscribers</th>\n",
              "    </tr>\n",
              "  </thead>\n",
              "  <tbody>\n",
              "    <tr>\n",
              "      <th>2476</th>\n",
              "      <td>Learn HTML5 Programming From Scratch</td>\n",
              "      <td>268923.0</td>\n",
              "    </tr>\n",
              "    <tr>\n",
              "      <th>2477</th>\n",
              "      <td>Coding for Entrepreneurs Basic</td>\n",
              "      <td>161029.0</td>\n",
              "    </tr>\n",
              "    <tr>\n",
              "      <th>2478</th>\n",
              "      <td>The Web Developer Bootcamp</td>\n",
              "      <td>121584.0</td>\n",
              "    </tr>\n",
              "    <tr>\n",
              "      <th>2479</th>\n",
              "      <td>Build Your First Website in 1 Week with HTML5 ...</td>\n",
              "      <td>120291.0</td>\n",
              "    </tr>\n",
              "    <tr>\n",
              "      <th>2480</th>\n",
              "      <td>The Complete Web Developer Course 2.0</td>\n",
              "      <td>114512.0</td>\n",
              "    </tr>\n",
              "  </tbody>\n",
              "</table>\n",
              "</div>"
            ],
            "text/plain": [
              "                                           course_title  num_subscribers\n",
              "2476               Learn HTML5 Programming From Scratch         268923.0\n",
              "2477                     Coding for Entrepreneurs Basic         161029.0\n",
              "2478                         The Web Developer Bootcamp         121584.0\n",
              "2479  Build Your First Website in 1 Week with HTML5 ...         120291.0\n",
              "2480              The Complete Web Developer Course 2.0         114512.0"
            ]
          },
          "execution_count": 36,
          "metadata": {},
          "output_type": "execute_result"
        }
      ],
      "source": [
        "top5 = general_df.sort_values(by = \"num_subscribers\", ascending = False).head()\n",
        "top5[[\"course_title\",\"num_subscribers\"]]"
      ]
    },
    {
      "cell_type": "code",
      "execution_count": 98,
      "metadata": {},
      "outputs": [
        {
          "data": {
            "text/plain": [
              "<AxesSubplot: xlabel='course_title'>"
            ]
          },
          "execution_count": 98,
          "metadata": {},
          "output_type": "execute_result"
        },
        {
          "data": {
            "image/png": "[encoded data removed]",
            "text/plain": [
              "<Figure size 432x288 with 1 Axes>"
            ]
          },
          "metadata": {
            "needs_background": "light"
          },
          "output_type": "display_data"
        }
      ],
      "source": [
        "top5.plot.bar(x=\"course_title\",y=\"num_subscribers\", color='purple')"
      ]
    },
    {
      "cell_type": "markdown",
      "metadata": {
        "id": "VIN541HgpEwf"
      },
      "source": [
        "5. Dos cinco cursos mais populares em termos de inscritos, mostre o **rate médio**, **máximo** e **mínimo** de cada um deles."
      ]
    },
    {
      "cell_type": "code",
      "execution_count": 30,
      "metadata": {
        "colab": {
          "base_uri": "https://localhost:8080/"
        },
        "id": "OHt_xYF2pfb5",
        "outputId": "67ba4a56-f0d1-4a0d-bd56-700fab3a9176"
      },
      "outputs": [
        {
          "data": {
            "text/plain": [
              "count    5.000000\n",
              "mean     0.746000\n",
              "std      0.131263\n",
              "min      0.550000\n",
              "25%      0.690000\n",
              "50%      0.780000\n",
              "75%      0.820000\n",
              "max      0.890000\n",
              "Name: Rating, dtype: float64"
            ]
          },
          "execution_count": 30,
          "metadata": {},
          "output_type": "execute_result"
        }
      ],
      "source": [
        "top5[\"Rating\"].describe()"
      ]
    },
    {
      "cell_type": "markdown",
      "metadata": {
        "id": "PBMQyyHTpZ1x"
      },
      "source": [
        "6. Apresente os dez cursos mais visualizados na plataforma."
      ]
    },
    {
      "cell_type": "code",
      "execution_count": 68,
      "metadata": {
        "colab": {
          "base_uri": "https://localhost:8080/",
          "height": 684
        },
        "id": "hX7kvC5OqYVt",
        "outputId": "a347ff91-6749-4478-f17e-cff20b08ba30"
      },
      "outputs": [
        {
          "data": {
            "text/html": [
              "<div>\n",
              "<style scoped>\n",
              "    .dataframe tbody tr th:only-of-type {\n",
              "        vertical-align: middle;\n",
              "    }\n",
              "\n",
              "    .dataframe tbody tr th {\n",
              "        vertical-align: top;\n",
              "    }\n",
              "\n",
              "    .dataframe thead th {\n",
              "        text-align: right;\n",
              "    }\n",
              "</style>\n",
              "<table border=\"1\" class=\"dataframe\">\n",
              "  <thead>\n",
              "    <tr style=\"text-align: right;\">\n",
              "      <th></th>\n",
              "      <th>course_title</th>\n",
              "      <th>num_reviews</th>\n",
              "    </tr>\n",
              "  </thead>\n",
              "  <tbody>\n",
              "    <tr>\n",
              "      <th>2478</th>\n",
              "      <td>The Web Developer Bootcamp</td>\n",
              "      <td>27445.0</td>\n",
              "    </tr>\n",
              "    <tr>\n",
              "      <th>2480</th>\n",
              "      <td>The Complete Web Developer Course 2.0</td>\n",
              "      <td>22412.0</td>\n",
              "    </tr>\n",
              "    <tr>\n",
              "      <th>2485</th>\n",
              "      <td>Angular 4 (formerly Angular 2) - The Complete ...</td>\n",
              "      <td>19649.0</td>\n",
              "    </tr>\n",
              "    <tr>\n",
              "      <th>2484</th>\n",
              "      <td>JavaScript: Understanding the Weird Parts</td>\n",
              "      <td>16976.0</td>\n",
              "    </tr>\n",
              "    <tr>\n",
              "      <th>2497</th>\n",
              "      <td>Modern React with Redux</td>\n",
              "      <td>15117.0</td>\n",
              "    </tr>\n",
              "    <tr>\n",
              "      <th>2492</th>\n",
              "      <td>Learn and Understand AngularJS</td>\n",
              "      <td>11580.0</td>\n",
              "    </tr>\n",
              "    <tr>\n",
              "      <th>2493</th>\n",
              "      <td>Learn and Understand NodeJS</td>\n",
              "      <td>11123.0</td>\n",
              "    </tr>\n",
              "    <tr>\n",
              "      <th>2476</th>\n",
              "      <td>Learn HTML5 Programming From Scratch</td>\n",
              "      <td>8629.0</td>\n",
              "    </tr>\n",
              "    <tr>\n",
              "      <th>2504</th>\n",
              "      <td>Angular 2 with TypeScript for Beginners: The P...</td>\n",
              "      <td>8341.0</td>\n",
              "    </tr>\n",
              "    <tr>\n",
              "      <th>1797</th>\n",
              "      <td>Pianoforall - Incredible New Way To Learn Pian...</td>\n",
              "      <td>7676.0</td>\n",
              "    </tr>\n",
              "  </tbody>\n",
              "</table>\n",
              "</div>"
            ],
            "text/plain": [
              "                                           course_title  num_reviews\n",
              "2478                         The Web Developer Bootcamp      27445.0\n",
              "2480              The Complete Web Developer Course 2.0      22412.0\n",
              "2485  Angular 4 (formerly Angular 2) - The Complete ...      19649.0\n",
              "2484          JavaScript: Understanding the Weird Parts      16976.0\n",
              "2497                            Modern React with Redux      15117.0\n",
              "2492                     Learn and Understand AngularJS      11580.0\n",
              "2493                        Learn and Understand NodeJS      11123.0\n",
              "2476               Learn HTML5 Programming From Scratch       8629.0\n",
              "2504  Angular 2 with TypeScript for Beginners: The P...       8341.0\n",
              "1797  Pianoforall - Incredible New Way To Learn Pian...       7676.0"
            ]
          },
          "execution_count": 68,
          "metadata": {},
          "output_type": "execute_result"
        }
      ],
      "source": [
        "top10 = general_df.sort_values(by = \"num_reviews\", ascending = False).head(10)\n",
        "top10[[\"course_title\",\"num_reviews\"]]"
      ]
    },
    {
      "cell_type": "code",
      "execution_count": 87,
      "metadata": {},
      "outputs": [
        {
          "data": {
            "text/plain": [
              "<AxesSubplot: xlabel='course_title'>"
            ]
          },
          "execution_count": 87,
          "metadata": {},
          "output_type": "execute_result"
        },
        {
          "data": {
            "image/png": "[encoded data removed]",
            "text/plain": [
              "<Figure size 432x288 with 1 Axes>"
            ]
          },
          "metadata": {
            "needs_background": "light"
          },
          "output_type": "display_data"
        }
      ],
      "source": [
        "top10.plot.bar(x=\"course_title\",y=\"num_reviews\", color='pink')"
      ]
    },
    {
      "cell_type": "markdown",
      "metadata": {
        "id": "r4bFZBMIpqlu"
      },
      "source": [
        "7. A partir dos dez cursos mais vistos, mostre: 1) qual tem o maior número de inscritos; 2) qual tem o maior **rate** (avaliação do curso)."
      ]
    },
    {
      "cell_type": "code",
      "execution_count": 42,
      "metadata": {
        "colab": {
          "base_uri": "https://localhost:8080/",
          "height": 177
        },
        "id": "TAjdWgV6qXuW",
        "outputId": "1d8c948f-59d9-4088-c02c-40a73d5eb4bd"
      },
      "outputs": [
        {
          "data": {
            "text/html": [
              "<div>\n",
              "<style scoped>\n",
              "    .dataframe tbody tr th:only-of-type {\n",
              "        vertical-align: middle;\n",
              "    }\n",
              "\n",
              "    .dataframe tbody tr th {\n",
              "        vertical-align: top;\n",
              "    }\n",
              "\n",
              "    .dataframe thead th {\n",
              "        text-align: right;\n",
              "    }\n",
              "</style>\n",
              "<table border=\"1\" class=\"dataframe\">\n",
              "  <thead>\n",
              "    <tr style=\"text-align: right;\">\n",
              "      <th></th>\n",
              "      <th>course_title</th>\n",
              "      <th>num_subscribers</th>\n",
              "    </tr>\n",
              "  </thead>\n",
              "  <tbody>\n",
              "    <tr>\n",
              "      <th>2476</th>\n",
              "      <td>Learn HTML5 Programming From Scratch</td>\n",
              "      <td>268923.0</td>\n",
              "    </tr>\n",
              "  </tbody>\n",
              "</table>\n",
              "</div>"
            ],
            "text/plain": [
              "                              course_title  num_subscribers\n",
              "2476  Learn HTML5 Programming From Scratch         268923.0"
            ]
          },
          "execution_count": 42,
          "metadata": {},
          "output_type": "execute_result"
        }
      ],
      "source": [
        "top_subs = top10.sort_values(by = \"num_subscribers\", ascending = False).head(1)\n",
        "top_subs[[\"course_title\",\"num_subscribers\"]]"
      ]
    },
    {
      "cell_type": "code",
      "execution_count": 43,
      "metadata": {
        "colab": {
          "base_uri": "https://localhost:8080/",
          "height": 159
        },
        "id": "7D_YuIqVzuPI",
        "outputId": "bbc77ede-88e9-474a-c288-4562e2faa557"
      },
      "outputs": [
        {
          "data": {
            "text/html": [
              "<div>\n",
              "<style scoped>\n",
              "    .dataframe tbody tr th:only-of-type {\n",
              "        vertical-align: middle;\n",
              "    }\n",
              "\n",
              "    .dataframe tbody tr th {\n",
              "        vertical-align: top;\n",
              "    }\n",
              "\n",
              "    .dataframe thead th {\n",
              "        text-align: right;\n",
              "    }\n",
              "</style>\n",
              "<table border=\"1\" class=\"dataframe\">\n",
              "  <thead>\n",
              "    <tr style=\"text-align: right;\">\n",
              "      <th></th>\n",
              "      <th>course_title</th>\n",
              "      <th>Rating</th>\n",
              "    </tr>\n",
              "  </thead>\n",
              "  <tbody>\n",
              "    <tr>\n",
              "      <th>1797</th>\n",
              "      <td>Pianoforall - Incredible New Way To Learn Pian...</td>\n",
              "      <td>0.96</td>\n",
              "    </tr>\n",
              "  </tbody>\n",
              "</table>\n",
              "</div>"
            ],
            "text/plain": [
              "                                           course_title  Rating\n",
              "1797  Pianoforall - Incredible New Way To Learn Pian...    0.96"
            ]
          },
          "execution_count": 43,
          "metadata": {},
          "output_type": "execute_result"
        }
      ],
      "source": [
        "top_rate = top10.sort_values(by = \"Rating\", ascending = False).head(1)\n",
        "top_rate[[\"course_title\",\"Rating\"]]"
      ]
    },
    {
      "cell_type": "markdown",
      "metadata": {
        "id": "Gao_HBG1qZY9"
      },
      "source": [
        "8. Dos cursos listados na base de dados, qual tem maior duração em horas?"
      ]
    },
    {
      "cell_type": "code",
      "execution_count": 44,
      "metadata": {
        "colab": {
          "base_uri": "https://localhost:8080/",
          "height": 159
        },
        "id": "MvSGEfH9qqQK",
        "outputId": "f9d1d6ff-31c3-47c5-eb6e-bee8ae179efc"
      },
      "outputs": [
        {
          "data": {
            "text/html": [
              "<div>\n",
              "<style scoped>\n",
              "    .dataframe tbody tr th:only-of-type {\n",
              "        vertical-align: middle;\n",
              "    }\n",
              "\n",
              "    .dataframe tbody tr th {\n",
              "        vertical-align: top;\n",
              "    }\n",
              "\n",
              "    .dataframe thead th {\n",
              "        text-align: right;\n",
              "    }\n",
              "</style>\n",
              "<table border=\"1\" class=\"dataframe\">\n",
              "  <thead>\n",
              "    <tr style=\"text-align: right;\">\n",
              "      <th></th>\n",
              "      <th>course_title</th>\n",
              "      <th>content_duration</th>\n",
              "    </tr>\n",
              "  </thead>\n",
              "  <tbody>\n",
              "    <tr>\n",
              "      <th>1358</th>\n",
              "      <td>The Complete Figure Drawing Course HD</td>\n",
              "      <td>78.5</td>\n",
              "    </tr>\n",
              "  </tbody>\n",
              "</table>\n",
              "</div>"
            ],
            "text/plain": [
              "                               course_title  content_duration\n",
              "1358  The Complete Figure Drawing Course HD              78.5"
            ]
          },
          "execution_count": 44,
          "metadata": {},
          "output_type": "execute_result"
        }
      ],
      "source": [
        "top_hours = general_df.sort_values(by = \"content_duration\", ascending = False).head(1)\n",
        "top_hours[[\"course_title\",\"content_duration\"]]"
      ]
    },
    {
      "cell_type": "markdown",
      "metadata": {
        "id": "69Evu8BLqrS_"
      },
      "source": [
        "9. Dos cursos listados na base de dados, qual tem o maior número de aulas (*lectures*)?"
      ]
    },
    {
      "cell_type": "code",
      "execution_count": 45,
      "metadata": {
        "colab": {
          "base_uri": "https://localhost:8080/",
          "height": 177
        },
        "id": "5uqzhyXmqge0",
        "outputId": "233b0f00-ee14-488a-82d9-3741c7ea7e47"
      },
      "outputs": [
        {
          "data": {
            "text/html": [
              "<div>\n",
              "<style scoped>\n",
              "    .dataframe tbody tr th:only-of-type {\n",
              "        vertical-align: middle;\n",
              "    }\n",
              "\n",
              "    .dataframe tbody tr th {\n",
              "        vertical-align: top;\n",
              "    }\n",
              "\n",
              "    .dataframe thead th {\n",
              "        text-align: right;\n",
              "    }\n",
              "</style>\n",
              "<table border=\"1\" class=\"dataframe\">\n",
              "  <thead>\n",
              "    <tr style=\"text-align: right;\">\n",
              "      <th></th>\n",
              "      <th>course_title</th>\n",
              "      <th>num_lectures</th>\n",
              "    </tr>\n",
              "  </thead>\n",
              "  <tbody>\n",
              "    <tr>\n",
              "      <th>2556</th>\n",
              "      <td>Back to School Web Development and Programming...</td>\n",
              "      <td>779.0</td>\n",
              "    </tr>\n",
              "  </tbody>\n",
              "</table>\n",
              "</div>"
            ],
            "text/plain": [
              "                                           course_title  num_lectures\n",
              "2556  Back to School Web Development and Programming...         779.0"
            ]
          },
          "execution_count": 45,
          "metadata": {},
          "output_type": "execute_result"
        }
      ],
      "source": [
        "top_lecture = general_df.sort_values(by = \"num_lectures\", ascending = False).head(1)\n",
        "top_lecture[[\"course_title\",\"num_lectures\"]]"
      ]
    },
    {
      "cell_type": "code",
      "execution_count": 47,
      "metadata": {},
      "outputs": [
        {
          "data": {
            "text/html": [
              "<div>\n",
              "<style scoped>\n",
              "    .dataframe tbody tr th:only-of-type {\n",
              "        vertical-align: middle;\n",
              "    }\n",
              "\n",
              "    .dataframe tbody tr th {\n",
              "        vertical-align: top;\n",
              "    }\n",
              "\n",
              "    .dataframe thead th {\n",
              "        text-align: right;\n",
              "    }\n",
              "</style>\n",
              "<table border=\"1\" class=\"dataframe\">\n",
              "  <thead>\n",
              "    <tr style=\"text-align: right;\">\n",
              "      <th></th>\n",
              "      <th>num_lectures</th>\n",
              "      <th>course_title</th>\n",
              "    </tr>\n",
              "  </thead>\n",
              "  <tbody>\n",
              "    <tr>\n",
              "      <th>0</th>\n",
              "      <td>779.0</td>\n",
              "      <td>Back to School Web Development and Programming...</td>\n",
              "    </tr>\n",
              "  </tbody>\n",
              "</table>\n",
              "</div>"
            ],
            "text/plain": [
              "   num_lectures                                       course_title\n",
              "0         779.0  Back to School Web Development and Programming..."
            ]
          },
          "execution_count": 47,
          "metadata": {},
          "output_type": "execute_result"
        }
      ],
      "source": []
    },
    {
      "cell_type": "markdown",
      "metadata": {
        "id": "wVg9qj3WrD5h"
      },
      "source": [
        "10. Apresente o número (contagem) de cursos agrupados por nível (coluna *level*)."
      ]
    },
    {
      "cell_type": "code",
      "execution_count": 48,
      "metadata": {
        "colab": {
          "base_uri": "https://localhost:8080/"
        },
        "id": "7KyIy5m3rSoI",
        "outputId": "29deb110-3e96-44a6-fbf5-fb9133e5531e"
      },
      "outputs": [
        {
          "data": {
            "text/plain": [
              "level\n",
              "All Levels            1925\n",
              "Beginner Level        1271\n",
              "Expert Level            58\n",
              "Intermediate Level     422\n",
              "dtype: int64"
            ]
          },
          "execution_count": 48,
          "metadata": {},
          "output_type": "execute_result"
        }
      ],
      "source": [
        "general_df.groupby([\"level\"]).size()"
      ]
    },
    {
      "cell_type": "markdown",
      "metadata": {
        "id": "xPzjlE_crTJY"
      },
      "source": [
        "11. Quais são os cursos mais recentes contidos na base de dados?"
      ]
    },
    {
      "cell_type": "code",
      "execution_count": 51,
      "metadata": {
        "colab": {
          "base_uri": "https://localhost:8080/",
          "height": 736
        },
        "id": "nK_H8JxYrYWZ",
        "outputId": "4e479347-e2f6-4d08-e418-0e732ed3a039"
      },
      "outputs": [
        {
          "data": {
            "text/html": [
              "<div>\n",
              "<style scoped>\n",
              "    .dataframe tbody tr th:only-of-type {\n",
              "        vertical-align: middle;\n",
              "    }\n",
              "\n",
              "    .dataframe tbody tr th {\n",
              "        vertical-align: top;\n",
              "    }\n",
              "\n",
              "    .dataframe thead th {\n",
              "        text-align: right;\n",
              "    }\n",
              "</style>\n",
              "<table border=\"1\" class=\"dataframe\">\n",
              "  <thead>\n",
              "    <tr style=\"text-align: right;\">\n",
              "      <th></th>\n",
              "      <th>course_title</th>\n",
              "      <th>published_timestamp</th>\n",
              "    </tr>\n",
              "  </thead>\n",
              "  <tbody>\n",
              "    <tr>\n",
              "      <th>1183</th>\n",
              "      <td>Cryptocurrency (BTC &amp; ETH) Investment &amp; Tradin...</td>\n",
              "      <td>2017-07-06T21:46:30Z</td>\n",
              "    </tr>\n",
              "    <tr>\n",
              "      <th>1164</th>\n",
              "      <td>Forex how traders beat the markest with little...</td>\n",
              "      <td>2017-07-06T21:16:13Z</td>\n",
              "    </tr>\n",
              "    <tr>\n",
              "      <th>1027</th>\n",
              "      <td>Condor Broken Wing Butterfly Options Trading C...</td>\n",
              "      <td>2017-07-06T19:47:16Z</td>\n",
              "    </tr>\n",
              "    <tr>\n",
              "      <th>2465</th>\n",
              "      <td>ABRSM Grade III Piano Class - Handel Sonatina ...</td>\n",
              "      <td>2017-07-06T16:12:34Z</td>\n",
              "    </tr>\n",
              "    <tr>\n",
              "      <th>3677</th>\n",
              "      <td>Angular 4 Front To Back</td>\n",
              "      <td>2017-07-06T15:04:55Z</td>\n",
              "    </tr>\n",
              "    <tr>\n",
              "      <th>1504</th>\n",
              "      <td>Photoshop isn't like what you imagine A to Z .</td>\n",
              "      <td>2017-07-06T03:32:48Z</td>\n",
              "    </tr>\n",
              "    <tr>\n",
              "      <th>1166</th>\n",
              "      <td>Practical Film Financing: Finding &amp; Pitching I...</td>\n",
              "      <td>2017-07-05T21:46:55Z</td>\n",
              "    </tr>\n",
              "    <tr>\n",
              "      <th>1142</th>\n",
              "      <td>Bitcoin &amp; Ethereum Course (2 Course Bundle)</td>\n",
              "      <td>2017-07-05T19:06:26Z</td>\n",
              "    </tr>\n",
              "    <tr>\n",
              "      <th>2475</th>\n",
              "      <td>4 Week Rhythm Mastery</td>\n",
              "      <td>2017-07-05T16:07:44Z</td>\n",
              "    </tr>\n",
              "    <tr>\n",
              "      <th>1156</th>\n",
              "      <td>Options Trading Foundation: Your journey to co...</td>\n",
              "      <td>2017-07-05T04:41:54Z</td>\n",
              "    </tr>\n",
              "  </tbody>\n",
              "</table>\n",
              "</div>"
            ],
            "text/plain": [
              "                                           course_title   published_timestamp\n",
              "1183  Cryptocurrency (BTC & ETH) Investment & Tradin...  2017-07-06T21:46:30Z\n",
              "1164  Forex how traders beat the markest with little...  2017-07-06T21:16:13Z\n",
              "1027  Condor Broken Wing Butterfly Options Trading C...  2017-07-06T19:47:16Z\n",
              "2465  ABRSM Grade III Piano Class - Handel Sonatina ...  2017-07-06T16:12:34Z\n",
              "3677                            Angular 4 Front To Back  2017-07-06T15:04:55Z\n",
              "1504     Photoshop isn't like what you imagine A to Z .  2017-07-06T03:32:48Z\n",
              "1166  Practical Film Financing: Finding & Pitching I...  2017-07-05T21:46:55Z\n",
              "1142        Bitcoin & Ethereum Course (2 Course Bundle)  2017-07-05T19:06:26Z\n",
              "2475                              4 Week Rhythm Mastery  2017-07-05T16:07:44Z\n",
              "1156  Options Trading Foundation: Your journey to co...  2017-07-05T04:41:54Z"
            ]
          },
          "execution_count": 51,
          "metadata": {},
          "output_type": "execute_result"
        }
      ],
      "source": [
        "recents = general_df.sort_values(by = \"published_timestamp\", ascending = False).head(10)\n",
        "recents[[\"course_title\",\"published_timestamp\"]]"
      ]
    },
    {
      "cell_type": "markdown",
      "metadata": {
        "id": "cwzez2xhsYLa"
      },
      "source": [
        "12. Apresente o número (contagem) de cursos agrupados por nível (coluna *level*) e por assunto (coluna *subject*)."
      ]
    },
    {
      "cell_type": "code",
      "execution_count": 54,
      "metadata": {
        "colab": {
          "base_uri": "https://localhost:8080/"
        },
        "id": "7BXn9iPmsoCm",
        "outputId": "f8738c59-d263-477e-804c-a62712ecb8b0"
      },
      "outputs": [
        {
          "data": {
            "text/plain": [
              "level               subject                 \n",
              "All Levels          Business Finance            633\n",
              "                    Graphic Design              335\n",
              "                    Musical Instruments         324\n",
              "                    Subject: Web Development    633\n",
              "Beginner Level      Business Finance            399\n",
              "                    Graphic Design              184\n",
              "                    Musical Instruments         266\n",
              "                    Subject: Web Development    422\n",
              "Expert Level        Business Finance             25\n",
              "                    Graphic Design                7\n",
              "                    Musical Instruments          12\n",
              "                    Subject: Web Development     14\n",
              "Intermediate Level  Business Finance            134\n",
              "                    Graphic Design               76\n",
              "                    Musical Instruments          78\n",
              "                    Subject: Web Development    134\n",
              "Name: course_id, dtype: int64"
            ]
          },
          "execution_count": 54,
          "metadata": {},
          "output_type": "execute_result"
        }
      ],
      "source": [
        "general_df.groupby([\"level\",\"subject\"])[\"course_id\"].count()"
      ]
    },
    {
      "cell_type": "markdown",
      "metadata": {
        "id": "UoU_pvOUutMo"
      },
      "source": [
        "13. Disponibilize suas análises em um repositório do Github e compartilhe o link abaixo."
      ]
    },
    {
      "cell_type": "code",
      "execution_count": null,
      "metadata": {
        "id": "NjNInZBBu3Rl"
      },
      "outputs": [],
      "source": [
        "https://github.com/rebecca-medeiros/analise_cursosead"
      ]
    },
    {
      "cell_type": "markdown",
      "metadata": {
        "id": "CPKWugdJvXQf"
      },
      "source": [
        "14. Crie uma conta no <a href=\"https://www.kaggle.com/datasets/thedevastator/udemy-courses-revenue-generation-and-course-anal\">Kaggle</a> e crie um Notebook com as análises feitas neste projeto. A ideia aqui, é que você comece a criar um portfólio de análise de dados na plataforma :)"
      ]
    },
    {
      "cell_type": "code",
      "execution_count": null,
      "metadata": {
        "id": "YztEtLuqvWRe"
      },
      "outputs": [],
      "source": [
        "https://www.kaggle.com/code/rebeccademedeiros/analise-de-dados-udemy"
      ]
    }
  ],
  "metadata": {
    "colab": {
      "provenance": []
    },
    "kernelspec": {
      "display_name": "Python 3.10.5 64-bit",
      "language": "python",
      "name": "python3"
    },
    "language_info": {
      "codemirror_mode": {
        "name": "ipython",
        "version": 3
      },
      "file_extension": ".py",
      "mimetype": "text/x-python",
      "name": "python",
      "nbconvert_exporter": "python",
      "pygments_lexer": "ipython3",
      "version": "3.10.5"
    },
    "vscode": {
      "interpreter": {
        "hash": "bc8cf01c5e0744173b629e941ab5d786dde8ac859fc24d3062e71e885b7b14a9"
      }
    }
  },
  "nbformat": 4,
  "nbformat_minor": 0
}
